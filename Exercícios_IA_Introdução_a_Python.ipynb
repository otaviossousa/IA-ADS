{
  "nbformat": 4,
  "nbformat_minor": 0,
  "metadata": {
    "colab": {
      "provenance": [],
      "include_colab_link": true
    },
    "kernelspec": {
      "name": "python3",
      "display_name": "Python 3"
    },
    "language_info": {
      "name": "python"
    }
  },
  "cells": [
    {
      "cell_type": "markdown",
      "metadata": {
        "id": "view-in-github",
        "colab_type": "text"
      },
      "source": [
        "<a href=\"https://colab.research.google.com/github/otaviossousa/IA-ADS/blob/main/Exerc%C3%ADcios_IA_Introdu%C3%A7%C3%A3o_a_Python.ipynb\" target=\"_parent\"><img src=\"https://colab.research.google.com/assets/colab-badge.svg\" alt=\"Open In Colab\"/></a>"
      ]
    },
    {
      "cell_type": "markdown",
      "source": [
        "# Exercícios Python\n",
        "\n",
        "\n"
      ],
      "metadata": {
        "id": "8CQNp_6BsX1o"
      }
    },
    {
      "cell_type": "markdown",
      "source": [
        "## Estruturas básicas da linguagem"
      ],
      "metadata": {
        "id": "ASfi5qLms-DV"
      }
    },
    {
      "cell_type": "markdown",
      "source": [
        "### Múltiplos de Três e Cinco: Escreva um programa que imprime os números de 1 a 100, mas para múltiplos de três imprima \"Fizz\" em vez do número e para os múltiplos de cinco imprima \"Buzz\". Para números que são múltiplos de ambos três e cinco, imprima \"FizzBuzz\".\n",
        "\n"
      ],
      "metadata": {
        "id": "qzb7i0yysb6R"
      }
    },
    {
      "cell_type": "code",
      "source": [
        "# Inserir código aqui\n",
        "x: int = 1\n",
        "while x <= 100:\n",
        "  if x % 3 == 0 and x % 5 == 0:\n",
        "    print('FizzBuzz')\n",
        "  elif x % 3 == 0:\n",
        "    print('Fizz')\n",
        "  elif x % 5 == 0:\n",
        "    print('Buzz')\n",
        "  else:\n",
        "    print(x)\n",
        "  x += 1\n"
      ],
      "metadata": {
        "colab": {
          "base_uri": "https://localhost:8080/"
        },
        "id": "ISMy_K5HssFY",
        "outputId": "3812451e-2b24-40bd-ff53-3d7a2baa4f67"
      },
      "execution_count": null,
      "outputs": [
        {
          "output_type": "stream",
          "name": "stdout",
          "text": [
            "1\n",
            "2\n",
            "Fizz\n",
            "4\n",
            "Buzz\n",
            "Fizz\n",
            "7\n",
            "8\n",
            "Fizz\n",
            "Buzz\n",
            "11\n",
            "Fizz\n",
            "13\n",
            "14\n",
            "FizzBuzz\n",
            "16\n",
            "17\n",
            "Fizz\n",
            "19\n",
            "Buzz\n",
            "Fizz\n",
            "22\n",
            "23\n",
            "Fizz\n",
            "Buzz\n",
            "26\n",
            "Fizz\n",
            "28\n",
            "29\n",
            "FizzBuzz\n",
            "31\n",
            "32\n",
            "Fizz\n",
            "34\n",
            "Buzz\n",
            "Fizz\n",
            "37\n",
            "38\n",
            "Fizz\n",
            "Buzz\n",
            "41\n",
            "Fizz\n",
            "43\n",
            "44\n",
            "FizzBuzz\n",
            "46\n",
            "47\n",
            "Fizz\n",
            "49\n",
            "Buzz\n",
            "Fizz\n",
            "52\n",
            "53\n",
            "Fizz\n",
            "Buzz\n",
            "56\n",
            "Fizz\n",
            "58\n",
            "59\n",
            "FizzBuzz\n",
            "61\n",
            "62\n",
            "Fizz\n",
            "64\n",
            "Buzz\n",
            "Fizz\n",
            "67\n",
            "68\n",
            "Fizz\n",
            "Buzz\n",
            "71\n",
            "Fizz\n",
            "73\n",
            "74\n",
            "FizzBuzz\n",
            "76\n",
            "77\n",
            "Fizz\n",
            "79\n",
            "Buzz\n",
            "Fizz\n",
            "82\n",
            "83\n",
            "Fizz\n",
            "Buzz\n",
            "86\n",
            "Fizz\n",
            "88\n",
            "89\n",
            "FizzBuzz\n",
            "91\n",
            "92\n",
            "Fizz\n",
            "94\n",
            "Buzz\n",
            "Fizz\n",
            "97\n",
            "98\n",
            "Fizz\n",
            "Buzz\n"
          ]
        }
      ]
    },
    {
      "cell_type": "markdown",
      "source": [
        "### Conversor de Notas: Dada uma nota numérica, converta-a em conceitos A, B, C, D, E ou F, seguindo a tabela de conversão tradicional (90 para cima é A, 80 a 89 é B, etc.). Inclua uma verificação para entrada inválida (notas abaixo de 0 ou acima de 100)."
      ],
      "metadata": {
        "id": "Rccx1GFVtMGu"
      }
    },
    {
      "cell_type": "code",
      "source": [
        "# Inserir código aqui\n",
        "nota = 0\n",
        "while True:\n",
        "  nota = float(input('Digite uma nota entre 0 e 100: '))\n",
        "  if 0 <= nota <= 100: # nota >= 0 and nota <= 100\n",
        "    break\n",
        "if nota > 90:\n",
        "  print('A')\n",
        "elif nota > 80:\n",
        "  print('B')\n",
        "elif nota > 70:\n",
        "  print('C')\n",
        "elif nota > 60:\n",
        "  print('D')\n",
        "elif nota > 50:\n",
        "  print('E')\n",
        "else:\n",
        "  print('F')"
      ],
      "metadata": {
        "colab": {
          "base_uri": "https://localhost:8080/"
        },
        "id": "plgjGSc4tQsA",
        "outputId": "cfeab4c8-1e4c-432f-89a1-a8b713c532df"
      },
      "execution_count": null,
      "outputs": [
        {
          "output_type": "stream",
          "name": "stdout",
          "text": [
            "Digite uma nota entre 0 e 100: 3.14\n",
            "F\n"
          ]
        }
      ]
    },
    {
      "cell_type": "markdown",
      "source": [
        "### Encontrar Elementos Comuns: Dadas duas listas de números, escreva um programa que encontre e imprima os elementos comuns às duas listas, sem repeti-los, utilizando estruturas de controle para a comparação.\n",
        "\n",
        "**Dicas**\n",
        "- Defina duas listas de números.\n",
        "- Percorra cada elemento da primeira lista. (use o for)\n",
        "- Verifique se o elemento está presente na segunda lista. (use in)\n",
        "- Se estiver, verifique se o elemento ainda não foi adicionado à lista de elementos comuns. (use in)\n",
        "- Se não estiver, adicione-o à lista de elementos comuns.\n",
        "\n",
        "\n"
      ],
      "metadata": {
        "id": "FwlkPme-uQLK"
      }
    },
    {
      "cell_type": "code",
      "source": [
        "# Inserir código aqui\n",
        "import random\n",
        "\n",
        "A = [random.randint(1, 10) for _ in range(10)]\n",
        "B = [random.randint(1, 10) for _ in range(10)]\n",
        "print(A)\n",
        "print(B)\n",
        "I = []\n",
        "for x in A:\n",
        "  if x in B and x not in I:\n",
        "    I.append(x)\n",
        "\n",
        "print(I)\n"
      ],
      "metadata": {
        "colab": {
          "base_uri": "https://localhost:8080/"
        },
        "id": "RBFCexTmudPb",
        "outputId": "ce41345a-9705-4e15-ccce-95a5f7903811"
      },
      "execution_count": null,
      "outputs": [
        {
          "output_type": "stream",
          "name": "stdout",
          "text": [
            "[10, 3, 6, 2, 3, 8, 10, 6, 8, 1]\n",
            "[6, 10, 3, 9, 4, 10, 9, 1, 1, 8]\n",
            "[10, 3, 6, 8, 1]\n"
          ]
        }
      ]
    },
    {
      "cell_type": "markdown",
      "source": [
        "\n",
        "### Detector de Palíndromo: Escreva uma função que verifica se uma dada string é um palíndromo (palavras que lêem o mesmo de trás para frente), ignorando espaços e maiúsculas/minúsculas, considere que a string não terá acentos ou outros caracteres especiais.\n",
        "**Dicas**\n",
        "- Remover espaços e converter todas as letras para minúsculas.\n",
        "  - Remover espaços (pode usar o `replace(\" \", \"\")`)\n",
        "  - Converter para minúsculo (`lower()`)\n",
        "- Comparar a string original com sua versão invertida (use slicing)\n",
        "- Se forem iguais, a string é um palíndromo; caso contrário, não é.\n"
      ],
      "metadata": {
        "id": "KCPmutNuud9w"
      }
    },
    {
      "cell_type": "code",
      "source": [
        "# Inserir código aqui\n",
        "\n",
        "def e_palindromo(frase: str) -> str:\n",
        "  frase = frase.replace(' ', '').lower()\n",
        "  return frase == frase[::-1]\n",
        "\n",
        "frase = 'Socorram me subi no onibus em Marrocos'\n",
        "print(e_palindromo(frase))\n",
        "print(e_palindromo('Ana'))\n",
        "print(e_palindromo('Goiaba'))\n",
        "print(e_palindromo('A base do teto desaba'))"
      ],
      "metadata": {
        "colab": {
          "base_uri": "https://localhost:8080/"
        },
        "id": "QG22Uj9nuimA",
        "outputId": "e95d16c8-914d-4fa2-e5ce-b3457b2f52fb"
      },
      "execution_count": null,
      "outputs": [
        {
          "output_type": "stream",
          "name": "stdout",
          "text": [
            "True\n",
            "True\n",
            "False\n",
            "True\n"
          ]
        }
      ]
    },
    {
      "cell_type": "markdown",
      "source": [
        "\n",
        "### Quadrados Perfeitos: Utilize uma list comprehension para criar uma lista dos primeiros 10 quadrados perfeitos (1, 4, 9, ...) que são divisíveis por um dado número n.\n",
        "**Dica**\n",
        "- Quadrados perfeitos: `n ** 2`\n",
        "- list comprehension `[<var> for <var> in <iterable> if <expr>] `\n"
      ],
      "metadata": {
        "id": "KsgRo-axujRB"
      }
    },
    {
      "cell_type": "code",
      "source": [
        "n = int(input('Digite um número: '))\n",
        "quadrado_perfeito = [x ** 2 for x in range(1, 11) if x % n == 0]\n",
        "print(quadrado_perfeito)"
      ],
      "metadata": {
        "id": "1M8oMayLu7He",
        "colab": {
          "base_uri": "https://localhost:8080/"
        },
        "outputId": "d3ac2756-73b6-4f7b-afb7-1b0f69de754c"
      },
      "execution_count": null,
      "outputs": [
        {
          "output_type": "stream",
          "name": "stdout",
          "text": [
            "Digite um número: 13\n",
            "[]\n"
          ]
        }
      ]
    },
    {
      "cell_type": "markdown",
      "source": [
        "### Interseção de Listas: Utilize list comprehensions para criar uma lista que seja a interseção de dois outros conjuntos (listas) de números, sem usar sets.\n",
        "**Dicas**\n",
        "- Use o comando `in`\n"
      ],
      "metadata": {
        "id": "Af4xyAW-u7pA"
      }
    },
    {
      "cell_type": "code",
      "source": [
        "# Inserir código aqui\n",
        "import random as rd\n",
        "lista1 = [rd.randint(1, 10) for x in range(10)]\n",
        "lista2 = [rd.randint(1, 10) for x in range(10)]\n",
        "\n",
        "# lista = [x for x in range(1, 11)]\n",
        "# rd.shuffle(lista)\n",
        "# print(lista)\n",
        "intersecao = [x for x in lista1 if x in lista2]\n",
        "lista1.sort()\n",
        "lista2.sort()\n",
        "intersecao2 = [x for i, x in enumerate(lista1) if x in lista2 and x not in lista1[i + 1:]]\n",
        "\n",
        "print(f'lista1: {lista1}')\n",
        "print(f'lista2: {lista2}')\n",
        "print(f'interseção: {intersecao}')\n",
        "print(f'interseção2: {intersecao2}')\n",
        "\n",
        "int_set = list(set(lista1) & set(lista2))\n",
        "print(int_set)\n",
        "\n"
      ],
      "metadata": {
        "id": "mbv-zfLDvHcU",
        "colab": {
          "base_uri": "https://localhost:8080/"
        },
        "outputId": "406b2dbe-0b32-4c81-8503-60815fd3b385"
      },
      "execution_count": null,
      "outputs": [
        {
          "output_type": "stream",
          "name": "stdout",
          "text": [
            "lista1: [3, 3, 3, 5, 6, 6, 7, 7, 9, 9]\n",
            "lista2: [1, 2, 2, 4, 4, 4, 5, 6, 6, 10]\n",
            "interseção: [5, 6, 6]\n",
            "interseção2: [5, 6]\n",
            "[5, 6]\n"
          ]
        }
      ]
    },
    {
      "cell_type": "markdown",
      "source": [
        "### Diferença de Listas: Dadas duas listas de números, utilize uma list comprehension para criar uma lista que contenha todos os elementos da primeira lista que não estão na segunda.\n",
        "**Dicas**\n",
        "- `set` serve para criar um conjunto, que é uma coleção não ordenada e sem elementos duplicados. Possui as seguintes operações:\n",
        "  - A operação de união (|) combina dois conjuntos, retornando um novo conjunto contendo todos os elementos presentes em ambos os conjuntos, sem duplicatas.\n",
        "  - A operação de interseção (&) retorna um novo conjunto contendo apenas os elementos que estão presentes em ambos os conjuntos originais.\n",
        "  - A operação de diferença (-) retorna um novo conjunto contendo os elementos que estão presentes no primeiro conjunto, mas não no segundo.\n",
        "  - A operação de diferença simétrica (^) retorna um novo conjunto contendo os elementos que estão presentes em apenas um dos conjuntos, mas não em ambos."
      ],
      "metadata": {
        "id": "sGGo4ye9vGFo"
      }
    },
    {
      "cell_type": "code",
      "source": [
        "# Inserir código aqui\n",
        "import random as rd\n",
        "lista1 = [rd.randint(1, 10) for x in range(10)]\n",
        "lista2 = [rd.randint(1, 10) for x in range(10)]\n",
        "\n",
        "diferenca = [x for x in lista1 if x not in lista2]\n",
        "\n",
        "print(f'lista1: {lista1}')\n",
        "print(f'lista2: {lista2}')\n",
        "print(f'diferença: {diferenca}')\n",
        "\n",
        "dif_set = list(set(lista1) - set(lista2))\n",
        "print(dif_set)"
      ],
      "metadata": {
        "id": "JIiU_qu_vOc8",
        "colab": {
          "base_uri": "https://localhost:8080/"
        },
        "outputId": "68d3bb25-ee65-476a-f815-6a80ab36c3f6"
      },
      "execution_count": null,
      "outputs": [
        {
          "output_type": "stream",
          "name": "stdout",
          "text": [
            "lista1: [6, 4, 8, 6, 10, 9, 3, 2, 3, 6]\n",
            "lista2: [5, 4, 5, 5, 1, 6, 8, 3, 5, 4]\n",
            "diferença: [10, 9, 2]\n",
            "[9, 2, 10]\n"
          ]
        }
      ]
    },
    {
      "cell_type": "markdown",
      "source": [
        "### Conversão de Temperaturas: Escreva uma list comprehension que converta uma lista de temperaturas em Celsius para Fahrenheit. Fórmula: F = C * 9/5 + 32.\n"
      ],
      "metadata": {
        "id": "rc3fCFs-vO36"
      }
    },
    {
      "cell_type": "code",
      "source": [
        "# Inserir código aqui\n",
        "import random\n",
        "\n",
        "def fah(c):\n",
        "  return c * (9 / 5) + 32\n",
        "\n",
        "temp_cel = [random.randint(-20, 50) for x in range(10)]\n",
        "print(temp_cel)\n",
        "\n",
        "temp_fah = [fah(c) for c in temp_cel]\n",
        "\n",
        "print(f'C: {temp_cel}')\n",
        "print(f'F: {temp_fah}')"
      ],
      "metadata": {
        "id": "8G5qu2GXvSAH",
        "colab": {
          "base_uri": "https://localhost:8080/"
        },
        "outputId": "20dd3d53-9cbc-428b-b1fa-fb8091f29fd0"
      },
      "execution_count": null,
      "outputs": [
        {
          "output_type": "stream",
          "name": "stdout",
          "text": [
            "[25, 45, -17, 16, -9, 27, 1, 0, 46, 32]\n",
            "C: [25, 45, -17, 16, -9, 27, 1, 0, 46, 32]\n",
            "F: [77.0, 113.0, 1.3999999999999986, 60.8, 15.8, 80.6, 33.8, 32.0, 114.8, 89.6]\n"
          ]
        }
      ]
    },
    {
      "cell_type": "markdown",
      "source": [
        "### Filtrar Palavras: Dada uma lista de palavras, use uma list comprehension para criar uma lista com apenas as palavras que têm mais de 4 caracteres e menos de 8 caracteres.\n"
      ],
      "metadata": {
        "id": "vkWP84GWvSZh"
      }
    },
    {
      "cell_type": "code",
      "source": [
        "palavras = [\n",
        "    \"amor\", \"luz\", \"vida\", \"sol\", \"lua\", \"noite\", \"dia\", \"feliz\", \"triste\", \"livro\",\n",
        "    \"tempo\", \"mar\", \"rio\", \"monte\", \"vale\", \"chuva\", \"nuvem\", \"estrela\", \"flor\", \"árvore\",\n",
        "    \"folha\", \"vento\", \"calor\", \"frio\", \"casa\", \"rua\", \"cidade\", \"paz\", \"guerra\", \"amigo\",\n",
        "    \"inimigo\", \"grande\", \"pequeno\", \"rápido\", \"lento\", \"claro\", \"escuro\", \"silêncio\", \"som\", \"música\",\n",
        "    \"cantar\", \"dançar\", \"pular\", \"correr\", \"voar\", \"nadar\", \"pensar\", \"saber\", \"conhecer\", \"aprender\",\n",
        "    \"ensinar\", \"ver\", \"olhar\", \"escutar\", \"falar\", \"dizer\", \"comer\", \"beber\", \"viver\", \"morrer\"\n",
        "]\n",
        "\n",
        "\n",
        "filtro = [palavra for palavra in palavras if len(palavra) > 4 and len(palavra) < 8],\n",
        "\n",
        "print(filtro)"
      ],
      "metadata": {
        "colab": {
          "base_uri": "https://localhost:8080/"
        },
        "id": "UGgFYvKp3K1B",
        "outputId": "2b5b00de-3034-4247-82fa-40b52ef9598c"
      },
      "execution_count": null,
      "outputs": [
        {
          "output_type": "stream",
          "name": "stdout",
          "text": [
            "(['noite', 'feliz', 'triste', 'livro', 'tempo', 'monte', 'chuva', 'nuvem', 'estrela', 'árvore', 'folha', 'vento', 'calor', 'cidade', 'guerra', 'amigo', 'inimigo', 'grande', 'pequeno', 'rápido', 'lento', 'claro', 'escuro', 'música', 'cantar', 'dançar', 'pular', 'correr', 'nadar', 'pensar', 'saber', 'ensinar', 'olhar', 'escutar', 'falar', 'dizer', 'comer', 'beber', 'viver', 'morrer'],)\n"
          ]
        }
      ]
    },
    {
      "cell_type": "code",
      "source": [],
      "metadata": {
        "id": "4hqSR1BU4GqF"
      },
      "execution_count": null,
      "outputs": []
    },
    {
      "cell_type": "markdown",
      "source": [
        "## Funções"
      ],
      "metadata": {
        "id": "mefRTnZKvWta"
      }
    },
    {
      "cell_type": "markdown",
      "source": [
        "### Função Recursiva de Fibonacci: Escreva uma função recursiva que retorne o n-ésimo número de Fibonacci.\n",
        "- A sequência de Fibonacci é uma série de números onde cada número é a soma dos dois números anteriores. Ela começa com os números 0 e 1, e os números subsequentes são calculados somando os dois números anteriores. Aqui estão os primeiros números da sequência de Fibonacci: 0, 1, 1, 2, 3, 5, 8, 13, 21, 34, ...\n",
        "\n",
        "\n",
        "\n"
      ],
      "metadata": {
        "id": "o85h4UxXvYxk"
      }
    },
    {
      "cell_type": "code",
      "source": [
        "# Inserir código aqui\n",
        "def fibonacci(n):\n",
        "  if n == 0 or n == 1: # caso base\n",
        "    return n\n",
        "  else:\n",
        "    return fibonacci(n - 1) + fibonacci(n - 2)\n",
        "\n",
        "print(f'fib(10) = {fibonacci(10)}')\n",
        "print(f'fib(30) = {fibonacci(30)}')\n",
        "# print(f'fib(50) = {fibonacci(50)}')\n",
        "\n"
      ],
      "metadata": {
        "id": "OduwgJksvk2-",
        "colab": {
          "base_uri": "https://localhost:8080/"
        },
        "outputId": "9ddf938c-18ee-42fb-f6f3-dcce6e198dc0"
      },
      "execution_count": null,
      "outputs": [
        {
          "output_type": "stream",
          "name": "stdout",
          "text": [
            "fib(10) = 55\n",
            "fib(30) = 832040\n"
          ]
        }
      ]
    },
    {
      "cell_type": "markdown",
      "source": [
        "### Validação de Senha: Escreva uma função que receba uma senha (string) e retorne True se a senha for forte. Uma senha forte deve ter pelo menos 8 caracteres, uma letra maiúscula, uma letra minúscula e um número.\n"
      ],
      "metadata": {
        "id": "hmD7N2-lvmTn"
      }
    },
    {
      "cell_type": "code",
      "source": [
        "# Inserir código aqui\n",
        "def validar_senha(senha):\n",
        "  tem_mais = any(c.isupper() for c in senha)\n",
        "  tem_minu = any(c.islower() for c in senha)\n",
        "  tem_num = any(c.isdigit() for c in senha)\n",
        "\n",
        "  return len(senha) >= 8 and tem_mais and tem_minu and tem_num\n",
        "\n",
        "print(validar_senha('Otavio123'))\n",
        "print(validar_senha('otavio123'))\n",
        "print(validar_senha('otaVio123'))\n",
        "print(validar_senha('OtaVio1'))"
      ],
      "metadata": {
        "id": "Z8dCQYFCvp46",
        "colab": {
          "base_uri": "https://localhost:8080/"
        },
        "outputId": "03577c92-2518-4648-f3e1-a6629e164143"
      },
      "execution_count": null,
      "outputs": [
        {
          "output_type": "stream",
          "name": "stdout",
          "text": [
            "True\n",
            "False\n",
            "True\n",
            "False\n"
          ]
        }
      ]
    },
    {
      "cell_type": "code",
      "source": [
        "def validar_senha(senha):\n",
        "  tem_mais = False\n",
        "  tem_minu = False\n",
        "  tem_num = False\n",
        "\n",
        "  for c in senha:\n",
        "    if c.isdigit():\n",
        "      tem_num = True\n",
        "    elif c.islower():\n",
        "      tem_minu = True\n",
        "    elif c.isupper():\n",
        "      tem_mais = True\n",
        "\n",
        "  return len(senha) >= 8 and tem_mais and tem_minu and tem_num\n",
        "\n",
        "print(validar_senha('Otavio123'))\n",
        "print(validar_senha('otavio123'))\n",
        "print(validar_senha('otaVio123'))\n",
        "print(validar_senha('OtaVio1'))"
      ],
      "metadata": {
        "colab": {
          "base_uri": "https://localhost:8080/"
        },
        "id": "PHG_NQ73-oTx",
        "outputId": "51eea684-008e-4183-cc4e-5875799422ba"
      },
      "execution_count": null,
      "outputs": [
        {
          "output_type": "stream",
          "name": "stdout",
          "text": [
            "True\n",
            "False\n",
            "True\n",
            "False\n"
          ]
        }
      ]
    },
    {
      "cell_type": "code",
      "source": [
        "n1 = '½'\n",
        "print(n1.isnumeric())\n",
        "print(n1.isdigit())\n"
      ],
      "metadata": {
        "colab": {
          "base_uri": "https://localhost:8080/"
        },
        "id": "NB0TDY3G89rV",
        "outputId": "4a032e89-1654-4266-ae2c-4294576fe310"
      },
      "execution_count": null,
      "outputs": [
        {
          "output_type": "stream",
          "name": "stdout",
          "text": [
            "True\n",
            "False\n"
          ]
        }
      ]
    },
    {
      "cell_type": "markdown",
      "source": [
        "### Agregação de Lista: Escreva uma função que receba uma lista de números e retorne um dicionário com as chaves 'max', 'min', 'average' e 'sum' correspondendo aos valores máximo, mínimo, média e soma da lista, respectivamente.\n"
      ],
      "metadata": {
        "id": "hUY_HCzBvqTz"
      }
    },
    {
      "cell_type": "code",
      "source": [
        "# Inserir código aqui\n",
        "def avalia_lista(lista):\n",
        "  dic = {\n",
        "      'max': max(lista),\n",
        "      'min': min(lista),\n",
        "      'sum': sum(lista),\n",
        "      'average': sum(lista) / len(lista)\n",
        "  }\n",
        "  return dic\n",
        "\n",
        "print(avalia_lista([1, 2, 3, 4]))"
      ],
      "metadata": {
        "id": "G8yxABgWv84M",
        "colab": {
          "base_uri": "https://localhost:8080/"
        },
        "outputId": "fb0ec9b2-ed84-4211-b9d4-f23d86102d8a"
      },
      "execution_count": null,
      "outputs": [
        {
          "output_type": "stream",
          "name": "stdout",
          "text": [
            "{'max': 4, 'min': 1, 'sum': 10, 'average': 2.5}\n"
          ]
        }
      ]
    },
    {
      "cell_type": "markdown",
      "source": [
        "### MDC (Máximo Divisor Comum): Implemente uma função que calcule o Máximo Divisor Comum entre dois números usando o algoritmo de Euclides.\n",
        "\n",
        "## Algoritmo de Euclides\n",
        "\n",
        "O Algoritmo de Euclides é um método eficiente para encontrar o máximo divisor comum (MDC) de dois números inteiros positivos. Ele foi desenvolvido pelo matemático grego Euclides, em torno de 300 a.C. O algoritmo baseia-se na observação de que o MDC de dois números também é o mesmo que o MDC entre o menor deles e a diferença entre os dois.\n",
        "\n",
        "### Funcionamento\n",
        "\n",
        "- **Entrada:** Recebe dois números inteiros positivos, (a) e (b), onde (a $\\ge$ b).\n",
        "- **Divisão:** Divide (a) por (b) e obtém o resto, denotado por (r). Isso pode ser feito usando a operação de módulo (%), onde (r = a % b).\n",
        "- **Verificação do Resto:** Se o resto (r) for igual a zero, então (b) é o MDC dos números (a) e (b). Nesse caso, terminamos o algoritmo.\n",
        "- **Atualização dos Valores:** Caso o resto (r) seja diferente de zero, atualizamos os valores de (a) e (b) da seguinte forma:\n",
        "  - (a) recebe o valor de (b).\n",
        "  - (b) recebe o valor de (r).\n",
        "- **Repetição:** Voltamos ao passo 2 e repetimos o processo até que o resto seja igual a zero.\n",
        "\n",
        "Quando o resto se torna zero, o algoritmo retorna o valor de (b), que é o MDC dos números originais (a) e (b).\n",
        "\n",
        "\n"
      ],
      "metadata": {
        "id": "6jHBLLPzv9HS"
      }
    },
    {
      "cell_type": "code",
      "source": [
        "# Inserir código aqui\n",
        "\n",
        "def mdc(a, b):\n",
        "  if b < a:\n",
        "    a, b = b, a\n",
        "    # aux = a\n",
        "    # a = b\n",
        "    # b = aux\n",
        "  while b != 0:\n",
        "    resto = a % b\n",
        "    a = b\n",
        "    b = resto\n",
        "  return a\n",
        "\n",
        "print(mdc(10, 15))\n",
        "print(mdc(10, 100))\n",
        "print(mdc(13, 29))\n",
        "\n"
      ],
      "metadata": {
        "id": "XFhyIMgnwA5k",
        "colab": {
          "base_uri": "https://localhost:8080/"
        },
        "outputId": "e89787ed-2a70-4f60-f888-ffbb1e688666"
      },
      "execution_count": null,
      "outputs": [
        {
          "output_type": "stream",
          "name": "stdout",
          "text": [
            "5\n",
            "10\n",
            "1\n"
          ]
        }
      ]
    },
    {
      "cell_type": "markdown",
      "source": [
        "### Rotacionar Lista: Escreva uma função que rotacione os elementos de uma lista à direita n vezes. Por exemplo, para a lista [1, 2, 3, 4, 5] e n = 2, o resultado seria [4, 5, 1, 2, 3].\n"
      ],
      "metadata": {
        "id": "f4TUYrxiwBHo"
      }
    },
    {
      "cell_type": "code",
      "source": [
        "# Inserir código aqui\n",
        "def rotaciona(lista, n):\n",
        "  index_rot = len(lista) - n % len(lista)\n",
        "  return lista[index_rot:] + lista[:index_rot]\n",
        "\n",
        "lista = [1, 2, 3, 4, 5]\n",
        "\n",
        "print(rotaciona(lista, 7))"
      ],
      "metadata": {
        "id": "jbiyjQ6JwFFO",
        "colab": {
          "base_uri": "https://localhost:8080/"
        },
        "outputId": "75ff98d5-2cf4-4b0e-f701-7ef67f731536"
      },
      "execution_count": null,
      "outputs": [
        {
          "output_type": "stream",
          "name": "stdout",
          "text": [
            "[4, 5, 1, 2, 3]\n"
          ]
        }
      ]
    },
    {
      "cell_type": "markdown",
      "source": [
        "## Dicionários"
      ],
      "metadata": {
        "id": "qp5KBEOgwFWP"
      }
    },
    {
      "cell_type": "markdown",
      "source": [
        "### Contagem de Palavras: Dada uma longa string de texto, escreva uma função que retorne um dicionário onde as chaves são palavras únicas e os valores são o número de vezes que cada palavra aparece no texto.\n",
        "\n"
      ],
      "metadata": {
        "id": "DRsNvOdKwHsH"
      }
    },
    {
      "cell_type": "code",
      "source": [
        "# Inserir código aqui\n",
        "poema = '''Amor é fogo que arde sem se ver\n",
        "É ferida que dói e não se sente\n",
        "É um contentamento descontente\n",
        "É dor que desatina sem doer\n",
        "É um não querer mais que bem querer\n",
        "É solitário andar por entre a gente\n",
        "É nunca contentar se de contente\n",
        "É cuidar que se ganha em se perder\n",
        "Amor é fogo que arde sem se ver\n",
        "É um andar se estar preso por vontade\n",
        "É servir a quem vence o vencedor\n",
        "É ter com quem nos mata lealdade\n",
        "Mas como causar pode seu favor\n",
        "Nos corações humanos amizade\n",
        "Se tão contrário a si é o mesmo Amor\n",
        "Amor é fogo que arde sem se ver\n",
        "Mas como causar pode seu favor\n",
        "Nos corações humanos amizade\n",
        "Se tão contrário a si é o mesmo Amor\n",
        "Amor é fogo que arde sem se ver'''\n",
        "\n",
        "def conta_palavras(frase):\n",
        "  lista = frase.replace('\\n', ' ').split(' ')\n",
        "  dic = {}\n",
        "  for palavra in lista:\n",
        "    if palavra in dic:\n",
        "      dic[palavra] += 1\n",
        "    else:\n",
        "      dic[palavra] = 0\n",
        "  return dic\n",
        "print(conta_palavras(poema))"
      ],
      "metadata": {
        "id": "Dfgp5peRwNdP",
        "colab": {
          "base_uri": "https://localhost:8080/"
        },
        "outputId": "ee427dd9-a61b-44d2-e185-35eea201bbb6"
      },
      "execution_count": null,
      "outputs": [
        {
          "output_type": "stream",
          "name": "stdout",
          "text": [
            "{'Amor': 5, 'é': 5, 'fogo': 3, 'que': 7, 'arde': 3, 'sem': 4, 'se': 8, 'ver': 3, 'É': 9, 'ferida': 0, 'dói': 0, 'e': 0, 'não': 1, 'sente': 0, 'um': 2, 'contentamento': 0, 'descontente': 0, 'dor': 0, 'desatina': 0, 'doer': 0, 'querer': 1, 'mais': 0, 'bem': 0, 'solitário': 0, 'andar': 1, 'por': 1, 'entre': 0, 'a': 3, 'gente': 0, 'nunca': 0, 'contentar': 0, 'de': 0, 'contente': 0, 'cuidar': 0, 'ganha': 0, 'em': 0, 'perder': 0, 'estar': 0, 'preso': 0, 'vontade': 0, 'servir': 0, 'quem': 1, 'vence': 0, 'o': 2, 'vencedor': 0, 'ter': 0, 'com': 0, 'nos': 0, 'mata': 0, 'lealdade': 0, 'Mas': 1, 'como': 1, 'causar': 1, 'pode': 1, 'seu': 1, 'favor': 1, 'Nos': 1, 'corações': 1, 'humanos': 1, 'amizade': 1, 'Se': 1, 'tão': 1, 'contrário': 1, 'si': 1, 'mesmo': 1}\n"
          ]
        }
      ]
    },
    {
      "cell_type": "markdown",
      "source": [
        "### Inverter Dicionário: Escreva uma função que receba um dicionário e retorne um novo dicionário onde os valores do original se tornam as chaves e as chaves se tornam os valores.\n"
      ],
      "metadata": {
        "id": "V5gBMMirwN1T"
      }
    },
    {
      "cell_type": "code",
      "source": [
        "# Inserir código aqui\n",
        "def invert_dic(dic):\n",
        "  return {valor: chave for chave, valor in dic.items()}\n",
        "\n",
        "print(invert_dic({'a': 1, 'b': 2, 'c': 3}))"
      ],
      "metadata": {
        "id": "B8imPxIcwRHR",
        "colab": {
          "base_uri": "https://localhost:8080/"
        },
        "outputId": "6b0f4ccd-b2f9-4c72-d121-3590e705f989"
      },
      "execution_count": null,
      "outputs": [
        {
          "output_type": "stream",
          "name": "stdout",
          "text": [
            "{1: 'a', 2: 'b', 3: 'c'}\n"
          ]
        }
      ]
    },
    {
      "cell_type": "markdown",
      "source": [
        "### Agrupamento por Tamanho de Palavra: Dada uma lista de palavras, escreva uma função que retorne um dicionário onde as chaves são os tamanhos das palavras e os valores são listas de palavras desse tamanho.\n"
      ],
      "metadata": {
        "id": "wTi147mRwRac"
      }
    },
    {
      "cell_type": "code",
      "source": [
        "# Inserir código aqui\n",
        "\n",
        "def forma_dic(palavras):\n",
        "  dic = {}\n",
        "  for palavra in palavras:\n",
        "    if len(palavra) in dic:\n",
        "      dic[len(palavra)].append(palavra)\n",
        "    else:\n",
        "      dic[len(palavra)] = []\n",
        "  return dic\n",
        "\n",
        "palavras = [\n",
        "    \"amor\", \"luz\", \"vida\", \"sol\", \"lua\", \"noite\", \"dia\", \"feliz\", \"triste\", \"livro\",\n",
        "    \"tempo\", \"mar\", \"rio\", \"monte\", \"vale\", \"chuva\", \"nuvem\", \"estrela\", \"flor\", \"árvore\",\n",
        "    \"folha\", \"vento\", \"calor\", \"frio\", \"casa\", \"rua\", \"cidade\", \"paz\", \"guerra\", \"amigo\",\n",
        "    \"inimigo\", \"grande\", \"pequeno\", \"rápido\", \"lento\", \"claro\", \"escuro\", \"silêncio\", \"som\", \"música\",\n",
        "    \"cantar\", \"dançar\", \"pular\", \"correr\", \"voar\", \"nadar\", \"pensar\", \"saber\", \"conhecer\", \"aprender\",\n",
        "    \"ensinar\", \"ver\", \"olhar\", \"escutar\", \"falar\", \"dizer\", \"comer\", \"beber\", \"viver\", \"morrer\"\n",
        "]\n",
        "\n",
        "print(forma_dic(palavras))"
      ],
      "metadata": {
        "id": "NvEfu6bJwUig",
        "colab": {
          "base_uri": "https://localhost:8080/"
        },
        "outputId": "51336894-a1b8-4305-f42e-774521ce919d"
      },
      "execution_count": null,
      "outputs": [
        {
          "output_type": "stream",
          "name": "stdout",
          "text": [
            "{4: ['vida', 'vale', 'flor', 'frio', 'casa', 'voar'], 3: ['sol', 'lua', 'dia', 'mar', 'rio', 'rua', 'paz', 'som', 'ver'], 5: ['feliz', 'livro', 'tempo', 'monte', 'chuva', 'nuvem', 'folha', 'vento', 'calor', 'amigo', 'lento', 'claro', 'pular', 'nadar', 'saber', 'olhar', 'falar', 'dizer', 'comer', 'beber', 'viver'], 6: ['árvore', 'cidade', 'guerra', 'grande', 'rápido', 'escuro', 'música', 'cantar', 'dançar', 'correr', 'pensar', 'morrer'], 7: ['inimigo', 'pequeno', 'ensinar', 'escutar'], 8: ['conhecer', 'aprender']}\n"
          ]
        }
      ]
    },
    {
      "cell_type": "markdown",
      "source": [
        "### Mesclagem de Dicionários: Escreva uma função que combine dois dicionários. Se uma chave estiver presente em ambos, adicione os valores. Considere que os valores são numéricos.\n"
      ],
      "metadata": {
        "id": "L8Hukuz4wU52"
      }
    },
    {
      "cell_type": "code",
      "source": [
        "# Inserir código aqui"
      ],
      "metadata": {
        "id": "PCiuLeRXwX42"
      },
      "execution_count": null,
      "outputs": []
    },
    {
      "cell_type": "markdown",
      "source": [
        "## Importação de Módulos Básicos da Linguagem\n",
        "\n"
      ],
      "metadata": {
        "id": "AQkahG-bwYLB"
      }
    },
    {
      "cell_type": "markdown",
      "source": [
        "### Manipulação de Data e Hora: Utilize o módulo datetime para escrever uma função que retorne a diferença em dias entre duas datas passadas como strings.\n",
        "**Dicas**\n",
        "- `import datetime from datetime`\n",
        "- `datetime.strptime(data1, '%d/%m/%Y')`\n"
      ],
      "metadata": {
        "id": "RmkUnGsEwcYE"
      }
    },
    {
      "cell_type": "code",
      "source": [
        "# Inserir código aqui\n",
        "from datetime import datetime\n",
        "\n",
        "def diferenca_meses(data_str1, data_str2, formato='%d-%m-%Y'):\n",
        "\n",
        "\n",
        "    data1 = datetime.strptime(data_str1, formato)\n",
        "    data2 = datetime.strptime(data_str2, formato)\n",
        "\n",
        "    diferenca_ano = data2.year - data1.year\n",
        "    diferenca_mes = data2.month - data1.month\n",
        "    diferenca_meses_total = diferenca_ano * 12 + diferenca_mes\n",
        "\n",
        "    return abs(diferenca_meses_total)\n",
        "\n",
        "data_inicio = \"01-08-2007\"\n",
        "data_fim = \"30-03-2011\"\n",
        "diferenca = diferenca_meses(data_inicio, data_fim)\n",
        "print(f\"A diferença entre as datas é de {diferenca} meses.\")\n"
      ],
      "metadata": {
        "id": "ENcBL7ugwfWV",
        "colab": {
          "base_uri": "https://localhost:8080/"
        },
        "outputId": "60521b77-5a5c-4848-bfce-df2d1276c5fb"
      },
      "execution_count": null,
      "outputs": [
        {
          "output_type": "stream",
          "name": "stdout",
          "text": [
            "A diferença entre as datas é de 43 meses.\n"
          ]
        }
      ]
    },
    {
      "cell_type": "markdown",
      "source": [
        "### Expressões Regulares: Utilize o módulo re para escrever uma função que valide endereços de email. Um endereço é válido se seguir o formato nome@dominio.com.\n",
        "**Dicas**\n",
        "- `import re`\n",
        "- use `r'<padrao>'` para criar a string da expressão regular\n",
        "- use `re.match(<string>, <padrão>)`\n",
        "- [Exemplos de expressões regulares](https://medium.com/shopify-hub/como-validar-cpf-e-cnpj-usando-express%C3%B5es-regulares-regex-com-javascript-60779229455d)\n"
      ],
      "metadata": {
        "id": "JRuKq7GQwfkv"
      }
    },
    {
      "cell_type": "code",
      "source": [
        "# Inserir código aqui"
      ],
      "metadata": {
        "id": "a8VpnIwAwiVd"
      },
      "execution_count": null,
      "outputs": []
    },
    {
      "cell_type": "markdown",
      "source": [
        "### Criação de Números Aleatórios: Utilize o módulo random para escrever uma função que gere uma lista de n números aleatórios entre dois valores, ambos inclusivos.\n"
      ],
      "metadata": {
        "id": "aKSPnFjdwint"
      }
    },
    {
      "cell_type": "code",
      "source": [
        "# Inserir código aqui"
      ],
      "metadata": {
        "id": "Mvc6hXFuwlZu"
      },
      "execution_count": null,
      "outputs": []
    },
    {
      "cell_type": "markdown",
      "source": [
        "### Execução de Comandos do Sistema: Utilize o módulo os para escrever um script que liste todos os arquivos e diretórios no diretório atual.\n",
        "**Dicas**\n",
        "- `import os`\n",
        "- Para obter o diretório atual: `os.getcwd()`\n",
        "- Obter uma lista com os arquivos do diretório: `os.listdir(<diretório>)`\n",
        "\n"
      ],
      "metadata": {
        "id": "ns3Qv5cOwluB"
      }
    },
    {
      "cell_type": "code",
      "source": [
        "# Inserir código aqui\n"
      ],
      "metadata": {
        "id": "XLAeIO9TwqB3"
      },
      "execution_count": null,
      "outputs": []
    },
    {
      "cell_type": "markdown",
      "source": [
        "## POO\n",
        "\n"
      ],
      "metadata": {
        "id": "HAwcRHfYwqVm"
      }
    },
    {
      "cell_type": "markdown",
      "source": [
        "### Classe Conta Bancária: Crie uma classe ContaBancaria que encapsule o nome do titular e o saldo. Utilize métodos para depositar, sacar e verificar o saldo, garantindo que o saldo não possa ser diretamente modificado fora dos métodos e que saques não possam deixar o saldo negativo.\n"
      ],
      "metadata": {
        "id": "DpvC6v3twxqr"
      }
    },
    {
      "cell_type": "code",
      "source": [
        "# Inserir código aqui"
      ],
      "metadata": {
        "id": "zozTo6PXwwpD"
      },
      "execution_count": null,
      "outputs": []
    },
    {
      "cell_type": "markdown",
      "source": [
        "### Classe Carro com Encapsulamento: Implemente uma classe Carro que encapsule atributos como marca, modelo e quilometragem. Adicione métodos para retornar a marca e o modelo, aumentar a quilometragem e retornar a quilometragem atual. Use o decorador @property para tornar a quilometragem uma propriedade \"apenas leitura\".\n"
      ],
      "metadata": {
        "id": "Y6eXfNFSw0U7"
      }
    },
    {
      "cell_type": "code",
      "source": [
        "# Inserir código aqui"
      ],
      "metadata": {
        "id": "WybQttdNw2Xa"
      },
      "execution_count": null,
      "outputs": []
    },
    {
      "cell_type": "markdown",
      "source": [
        "### Sistema de Avaliação de Alunos: Crie uma classe Aluno que encapsule o nome do aluno, notas e a média das notas. Utilize métodos para adicionar notas e calcular a média. A lista de notas não deve ser acessível fora dos métodos da classe.\n"
      ],
      "metadata": {
        "id": "iKyUJryvw2zU"
      }
    },
    {
      "cell_type": "code",
      "source": [
        "# Inserir código aqui"
      ],
      "metadata": {
        "id": "0d_lxHMEw5HW"
      },
      "execution_count": null,
      "outputs": []
    },
    {
      "cell_type": "markdown",
      "source": [
        "### Gerenciador de Tarefas: Implemente uma classe Tarefa que encapsule detalhes como titulo, descricao e concluida. Adicione métodos para marcar uma tarefa como concluída e verificar se está concluída, usando o princípio do encapsulamento para proteger o estado da tarefa."
      ],
      "metadata": {
        "id": "W2xJAP-aw5tP"
      }
    }
  ]
}